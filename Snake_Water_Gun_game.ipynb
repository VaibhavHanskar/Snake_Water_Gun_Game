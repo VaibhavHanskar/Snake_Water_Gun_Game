{
 "cells": [
  {
   "cell_type": "code",
   "execution_count": 1,
   "id": "e2a64e58",
   "metadata": {},
   "outputs": [],
   "source": [
    "import numpy as np"
   ]
  },
  {
   "cell_type": "code",
   "execution_count": 2,
   "id": "b22bbabf",
   "metadata": {},
   "outputs": [],
   "source": [
    "def game(comp,player):    \n",
    "    if comp == player:\n",
    "        print('Game is Tie')\n",
    "    elif comp == 'Snake' and player == 'Water':\n",
    "        print('Computer Won')\n",
    "    elif comp == 'Gun' and player == 'Snake':\n",
    "        print('Computer Won')\n",
    "    elif comp == 'Water' and player == 'Gun':\n",
    "        print('Computer Won')\n",
    "    else:\n",
    "        print('You Won')"
   ]
  },
  {
   "cell_type": "code",
   "execution_count": 3,
   "id": "bb242016",
   "metadata": {},
   "outputs": [],
   "source": [
    "random = np.random.randint(1,4)\n",
    "if random == 1:\n",
    "    comp = 'Snake'\n",
    "elif random == 2:\n",
    "    comp = 'Gun'\n",
    "else:\n",
    "    comp = 'Water'\n",
    "    "
   ]
  },
  {
   "cell_type": "code",
   "execution_count": 9,
   "id": "21429c20",
   "metadata": {},
   "outputs": [
    {
     "name": "stdout",
     "output_type": "stream",
     "text": [
      "GAME RULES:-\n",
      "Snake > Water\n",
      "Water > Gun\n",
      "Gun > Snake\n",
      "\n",
      "\n",
      "Enter Keyword for the following \n",
      "S = Snake \n",
      "G = Gun\n",
      "W = Water\n",
      "\n"
     ]
    }
   ],
   "source": [
    "print('GAME RULES:-\\nSnake > Water\\nWater > Gun\\nGun > Snake\\n\\n')\n",
    "print(\"Enter Keyword for the following \\nS = Snake \\nG = Gun\\nW = Water\\n\")\n"
   ]
  },
  {
   "cell_type": "code",
   "execution_count": 12,
   "id": "e03d1eee",
   "metadata": {},
   "outputs": [
    {
     "name": "stdout",
     "output_type": "stream",
     "text": [
      "Enter the Value: G\n",
      "You have selected Gun\n",
      "Computer has Selected:  Snake \n",
      "\n",
      "You Won\n"
     ]
    }
   ],
   "source": [
    "you = input('Enter the Value: ')\n",
    "if you == 'S':\n",
    "    player = 'Snake'\n",
    "    print('You have selected Snake')\n",
    "elif you == 'G':\n",
    "    player = 'Gun'\n",
    "    print('You have selected Gun')\n",
    "elif you == 'W':\n",
    "    player = 'Water'\n",
    "    print('You have selected Water')\n",
    "print('Computer has Selected: ',comp,'\\n')\n",
    "\n",
    "\n",
    "game(comp,player)"
   ]
  },
  {
   "cell_type": "code",
   "execution_count": null,
   "id": "84cae572",
   "metadata": {},
   "outputs": [],
   "source": []
  }
 ],
 "metadata": {
  "kernelspec": {
   "display_name": "Python 3 (ipykernel)",
   "language": "python",
   "name": "python3"
  },
  "language_info": {
   "codemirror_mode": {
    "name": "ipython",
    "version": 3
   },
   "file_extension": ".py",
   "mimetype": "text/x-python",
   "name": "python",
   "nbconvert_exporter": "python",
   "pygments_lexer": "ipython3",
   "version": "3.9.7"
  }
 },
 "nbformat": 4,
 "nbformat_minor": 5
}
